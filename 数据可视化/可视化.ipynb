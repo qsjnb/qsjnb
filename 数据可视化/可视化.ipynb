{
 "cells": [
  {
   "cell_type": "code",
   "execution_count": 1,
   "metadata": {},
   "outputs": [
    {
     "name": "stdout",
     "output_type": "stream",
     "text": [
      "              Year  Home Team Goals  Away Team Goals     Attendance  \\\n",
      "count   852.000000       852.000000       852.000000     850.000000   \n",
      "mean   1985.089202         1.811033         1.022300   45164.800000   \n",
      "std      22.448825         1.610255         1.087573   23485.249247   \n",
      "min    1930.000000         0.000000         0.000000    2000.000000   \n",
      "25%    1970.000000         1.000000         0.000000   30000.000000   \n",
      "50%    1990.000000         2.000000         1.000000   41579.500000   \n",
      "75%    2002.000000         3.000000         2.000000   61374.500000   \n",
      "max    2014.000000        10.000000         7.000000  173850.000000   \n",
      "\n",
      "       Half-time Home Goals  Half-time Away Goals       RoundID       MatchID  \n",
      "count            852.000000            852.000000  8.520000e+02  8.520000e+02  \n",
      "mean               0.708920              0.428404  1.066177e+07  6.134687e+07  \n",
      "std                0.937414              0.691252  2.729613e+07  1.110572e+08  \n",
      "min                0.000000              0.000000  2.010000e+02  2.500000e+01  \n",
      "25%                0.000000              0.000000  2.620000e+02  1.188750e+03  \n",
      "50%                0.000000              0.000000  3.370000e+02  2.191000e+03  \n",
      "75%                1.000000              1.000000  2.497220e+05  4.395006e+07  \n",
      "max                6.000000              5.000000  9.741060e+07  3.001865e+08               RoundID       MatchID  Shirt Number\n",
      "count  3.778400e+04  3.778400e+04  37784.000000\n",
      "mean   1.105647e+07  6.362233e+07     10.726022\n",
      "std    2.770144e+07  1.123916e+08      6.960138\n",
      "min    2.010000e+02  2.500000e+01      0.000000\n",
      "25%    2.630000e+02  1.199000e+03      5.000000\n",
      "50%    3.370000e+02  2.216000e+03     11.000000\n",
      "75%    2.559310e+05  9.741000e+07     17.000000\n",
      "max    9.741060e+07  3.001865e+08     23.000000               Year  GoalsScored  QualifiedTeams  MatchesPlayed    Attendance\n",
      "count    21.000000    21.000000       21.000000      21.000000  2.100000e+01\n",
      "mean   1976.857143   121.333333       21.761905      42.857143  1.928067e+06\n",
      "std      26.657618    33.943090        7.462605      17.467930  1.074875e+06\n",
      "min    1930.000000    70.000000       13.000000      17.000000  3.630000e+05\n",
      "25%    1958.000000    89.000000       16.000000      32.000000  8.931720e+05\n",
      "50%    1978.000000   126.000000       16.000000      38.000000  1.865753e+06\n",
      "75%    1998.000000   146.000000       32.000000      64.000000  2.785100e+06\n",
      "max    2018.000000   171.000000       32.000000      64.000000  3.587538e+06\n",
      "Year                    0\n",
      "Datetime                0\n",
      "Stage                   0\n",
      "Stadium                 0\n",
      "City                    0\n",
      "Home Team Name          0\n",
      "Home Team Goals         0\n",
      "Away Team Goals         0\n",
      "Away Team Name          0\n",
      "Attendance              2\n",
      "Half-time Home Goals    0\n",
      "Half-time Away Goals    0\n",
      "Referee                 0\n",
      "Assistant 1             0\n",
      "Assistant 2             0\n",
      "RoundID                 0\n",
      "MatchID                 0\n",
      "Home Team Initials      0\n",
      "Away Team Initials      0\n",
      "dtype: int64 RoundID              0\n",
      "MatchID              0\n",
      "Team Initials        0\n",
      "Coach Name           0\n",
      "Line-up              0\n",
      "Shirt Number         0\n",
      "Player Name          0\n",
      "Position         33641\n",
      "Event            28715\n",
      "dtype: int64 Year               0\n",
      "HostCountry        0\n",
      "Winner             0\n",
      "Second             0\n",
      "Third              0\n",
      "Fourth             0\n",
      "GoalsScored        0\n",
      "QualifiedTeams     0\n",
      "MatchesPlayed      0\n",
      "Attendance         0\n",
      "HostContinent      0\n",
      "WinnerContinent    0\n",
      "dtype: int64\n",
      "       Year  Home Team Goals  Away Team Goals  Attendance  \\\n",
      "min  1930.0              0.0              0.0      2000.0   \n",
      "max  2014.0             10.0              7.0    173850.0   \n",
      "\n",
      "     Half-time Home Goals  Half-time Away Goals     RoundID      MatchID  \n",
      "min                   0.0                   0.0       201.0         25.0  \n",
      "max                   6.0                   5.0  97410600.0  300186515.0           RoundID      MatchID  Shirt Number\n",
      "min       201.0         25.0           0.0\n",
      "max  97410600.0  300186515.0          23.0        Year  GoalsScored  QualifiedTeams  MatchesPlayed  Attendance\n",
      "min  1930.0         70.0            13.0           17.0    363000.0\n",
      "max  2018.0        171.0            32.0           64.0   3587538.0\n",
      "Year                    0\n",
      "Datetime                0\n",
      "Stage                   0\n",
      "Stadium                 0\n",
      "City                    0\n",
      "Home Team Name          0\n",
      "Home Team Goals         0\n",
      "Away Team Goals         0\n",
      "Away Team Name          0\n",
      "Attendance              1\n",
      "Half-time Home Goals    0\n",
      "Half-time Away Goals    0\n",
      "Referee                 0\n",
      "Assistant 1             0\n",
      "Assistant 2             0\n",
      "RoundID                 0\n",
      "MatchID                 0\n",
      "Home Team Initials      0\n",
      "Away Team Initials      0\n",
      "dtype: int64 RoundID              0\n",
      "MatchID              0\n",
      "Team Initials        0\n",
      "Coach Name           0\n",
      "Line-up              0\n",
      "Shirt Number         0\n",
      "Player Name          0\n",
      "Position         33030\n",
      "Event            28225\n",
      "dtype: int64 Year               0\n",
      "HostCountry        0\n",
      "Winner             0\n",
      "Second             0\n",
      "Third              0\n",
      "Fourth             0\n",
      "GoalsScored        0\n",
      "QualifiedTeams     0\n",
      "MatchesPlayed      0\n",
      "Attendance         0\n",
      "HostContinent      0\n",
      "WinnerContinent    0\n",
      "dtype: int64\n"
     ]
    }
   ],
   "source": [
    "import pandas as pd\n",
    "import numpy as np\n",
    "\n",
    "# 读取csv文件，文件路径根据实际情况修改\n",
    "df = pd.read_csv('E:\\自己玩的数据\\数据可视化\\WorldCupMatches.csv', encoding='utf-8')\n",
    "df1 = pd.read_csv('E:\\自己玩的数据\\数据可视化\\WorldCupPlayers.csv', encoding='utf-8')\n",
    "df2 = pd.read_csv('E:\\自己玩的数据\\数据可视化\\WorldCupsSummary.csv', encoding='utf-8')\n",
    "\n",
    "# 查看数据的描述统计信息\n",
    "print(df.describe(),df1.describe(),df2.describe())\n",
    "# 查看是否有空值\n",
    "print(df.isnull().sum(),df1.isnull().sum(),df2.isnull().sum())\n",
    "# 查看是否有异常值\n",
    "print(df.describe().loc[['min', 'max']],df1.describe().loc[['min', 'max']],df2.describe().loc[['min', 'max']])\n",
    "# 删除重复值\n",
    "df.drop_duplicates(inplace=True)\n",
    "df1.drop_duplicates(inplace=True)\n",
    "df2.drop_duplicates(inplace=True)\n",
    "# 查看是否有空白值\n",
    "print(df.isna().sum(),df1.isna().sum(),df2.isna().sum())"
   ]
  },
  {
   "cell_type": "code",
   "execution_count": 17,
   "metadata": {},
   "outputs": [
    {
     "data": {
      "text/plain": [
       "'e:\\\\自己玩的数据\\\\数据可视化\\\\bar_chart.html'"
      ]
     },
     "execution_count": 17,
     "metadata": {},
     "output_type": "execute_result"
    }
   ],
   "source": [
    "import pandas as pd\n",
    "from pyecharts.charts import Bar\n",
    "from pyecharts import options as opts\n",
    "\n",
    "# 获取城市和观众人数\n",
    "cities = df[\"City\"].dropna().astype(str)\n",
    "attendance = df[\"Attendance\"].dropna().astype(int)\n",
    "\n",
    "# 合并数据并按观众人数降序排序\n",
    "city_attendance = pd.concat([cities, attendance], axis=1)\n",
    "city_attendance.columns = [\"city\", \"attendance\"]\n",
    "city_attendance = city_attendance.groupby(\"city\").sum().reset_index().sort_values(by=\"attendance\", ascending=False)\n",
    "\n",
    "# 取排名前十的城市和观众人数\n",
    "top_city_attendance = city_attendance.head(10)\n",
    "\n",
    "# 绘制柱状图\n",
    "bar = Bar()\n",
    "bar.add_xaxis(list(top_city_attendance[\"city\"]))\n",
    "bar.add_yaxis(\"\", list(top_city_attendance[\"attendance\"]))\n",
    "bar.set_global_opts(\n",
    "    title_opts=opts.TitleOpts(title=\"排名前十的城市和观众人数\"),\n",
    "    xaxis_opts=opts.AxisOpts(name=\"城市\"),\n",
    "    yaxis_opts=opts.AxisOpts(name=\"观众人数\")\n",
    ")\n",
    "\n",
    "bar.render(\"bar_chart.html\")\n"
   ]
  },
  {
   "cell_type": "code",
   "execution_count": 22,
   "metadata": {},
   "outputs": [
    {
     "data": {
      "text/plain": [
       "'e:\\\\自己玩的数据\\\\数据可视化\\\\bar_chart1.html'"
      ]
     },
     "execution_count": 22,
     "metadata": {},
     "output_type": "execute_result"
    }
   ],
   "source": [
    "import pandas as pd\n",
    "from pyecharts.charts import Bar\n",
    "from pyecharts import options as opts\n",
    "\n",
    "# 获取城市和观众人数\n",
    "cities = df[\"City\"].dropna().astype(str)\n",
    "attendance = df[\"Attendance\"].dropna().astype(int)\n",
    "\n",
    "# 合并数据并按观众人数降序排序\n",
    "city_attendance = pd.concat([cities, attendance], axis=1)\n",
    "city_attendance.columns = [\"city\", \"attendance\"]\n",
    "city_attendance = city_attendance.groupby(\"city\").sum().reset_index().sort_values(by=\"attendance\", ascending=False)\n",
    "\n",
    "# 取排名前十的城市和观众人数\n",
    "top_city_attendance = city_attendance.head(10)\n",
    "\n",
    "# 绘制柱状图\n",
    "bar.set_global_opts(\n",
    "    title_opts=opts.TitleOpts(title=\"排名前十的城市和观众人数\"),\n",
    "    xaxis_opts=opts.AxisOpts(\n",
    "        name=\"城市\",\n",
    "        axislabel_opts=opts.LabelOpts(rotate=-15, font_size=12)\n",
    "    ),\n",
    "    yaxis_opts=opts.AxisOpts(name=\"观众人数\")\n",
    ")\n",
    "bar.render(\"bar_chart1.html\")"
   ]
  },
  {
   "cell_type": "code",
   "execution_count": 24,
   "metadata": {},
   "outputs": [
    {
     "name": "stderr",
     "output_type": "stream",
     "text": [
      "C:\\Users\\覃诗杰\\AppData\\Local\\Temp\\ipykernel_20832\\1889622260.py:7: FutureWarning: The series.append method is deprecated and will be removed from pandas in a future version. Use pandas.concat instead.\n",
      "  countries = df[\"Home Team Name\"].dropna().astype(str).append(df[\"Away Team Name\"].dropna().astype(str))\n"
     ]
    },
    {
     "data": {
      "text/plain": [
       "'e:\\\\自己玩的数据\\\\数据可视化\\\\bar_chart2.html'"
      ]
     },
     "execution_count": 24,
     "metadata": {},
     "output_type": "execute_result"
    }
   ],
   "source": [
    "import pandas as pd\n",
    "from pyecharts.charts import Bar\n",
    "from pyecharts import options as opts\n",
    "\n",
    "\n",
    "# 获取国家和进球数\n",
    "countries = df[\"Home Team Name\"].dropna().astype(str).append(df[\"Away Team Name\"].dropna().astype(str))\n",
    "goals = df[\"Home Team Goals\"].fillna(0).astype(int).add(df[\"Away Team Goals\"].fillna(0).astype(int))\n",
    "\n",
    "# 合并数据并按进球数降序排序\n",
    "country_goals = pd.concat([countries, goals], axis=1)\n",
    "country_goals.columns = [\"country\", \"goals\"]\n",
    "country_goals = country_goals.groupby(\"country\").sum().reset_index().sort_values(by=\"goals\", ascending=False)\n",
    "\n",
    "# 取前十的国家和进球数\n",
    "top_country_goals = country_goals.head(10)\n",
    "\n",
    "# 绘制柱状图\n",
    "bar = Bar()\n",
    "bar.add_xaxis(list(top_country_goals[\"country\"]))\n",
    "bar.add_yaxis(\"\", list(top_country_goals[\"goals\"]))\n",
    "bar.set_global_opts(\n",
    "    title_opts=opts.TitleOpts(title=\"进球数最多的国家\"),\n",
    "    xaxis_opts=opts.AxisOpts(name=\"国家\", axislabel_opts=opts.LabelOpts(rotate=45, font_size=12)),\n",
    "    yaxis_opts=opts.AxisOpts(name=\"进球数\")\n",
    ")\n",
    "bar.render(\"bar_chart2.html\")\n"
   ]
  },
  {
   "cell_type": "code",
   "execution_count": 25,
   "metadata": {},
   "outputs": [
    {
     "data": {
      "text/plain": [
       "'e:\\\\自己玩的数据\\\\数据可视化\\\\pie_chart.html'"
      ]
     },
     "execution_count": 25,
     "metadata": {},
     "output_type": "execute_result"
    }
   ],
   "source": [
    "import pandas as pd\n",
    "from pyecharts.charts import Pie\n",
    "from pyecharts import options as opts\n",
    "\n",
    "# 统计进球数最多的国家\n",
    "goals = df.groupby(\"Home Team Name\")[\"Home Team Goals\"].sum() + df.groupby(\"Away Team Name\")[\"Away Team Goals\"].sum()\n",
    "top_countries = goals.sort_values(ascending=False).head(10)\n",
    "\n",
    "# 绘制饼图\n",
    "pie = Pie()\n",
    "pie.add(\n",
    "    \"\",\n",
    "    [list(z) for z in zip(top_countries.index.tolist(), top_countries.tolist())],\n",
    "    radius=[\"30%\", \"75%\"],\n",
    "    label_opts=opts.LabelOpts(is_show=True, position=\"inside\", formatter=\"{b}\\n{c}\"),\n",
    ")\n",
    "pie.set_global_opts(title_opts=opts.TitleOpts(title=\"进球数最多的国家Top10\"))\n",
    "pie.set_series_opts(label_opts=opts.LabelOpts(formatter=\"{b}\\n{c}\"))\n",
    "pie.render(\"pie_chart.html\")"
   ]
  },
  {
   "cell_type": "code",
   "execution_count": 26,
   "metadata": {},
   "outputs": [
    {
     "data": {
      "text/plain": [
       "'e:\\\\自己玩的数据\\\\数据可视化\\\\radar_chart.html'"
      ]
     },
     "execution_count": 26,
     "metadata": {},
     "output_type": "execute_result"
    }
   ],
   "source": [
    "\n",
    "import pandas as pd\n",
    "from pyecharts.charts import Radar\n",
    "from pyecharts import options as opts\n",
    "\n",
    "# 统计进球数最多的国家\n",
    "goals = df.groupby(\"Home Team Name\")[\"Home Team Goals\"].sum() + df.groupby(\"Away Team Name\")[\"Away Team Goals\"].sum()\n",
    "top_countries = goals.sort_values(ascending=False).head(10)\n",
    "\n",
    "# 准备数据\n",
    "max_value = top_countries.max()\n",
    "schema = [\n",
    "    opts.RadarIndicatorItem(name=country, max_=max_value) for country in top_countries.index.tolist()\n",
    "]\n",
    "values = [top_countries.tolist()]\n",
    "\n",
    "# 绘制雷达图\n",
    "radar = Radar()\n",
    "radar.add_schema(schema)\n",
    "radar.add(\"进球数最多的国家\", values)\n",
    "radar.set_series_opts(label_opts=opts.LabelOpts(is_show=False))\n",
    "radar.set_global_opts(title_opts=opts.TitleOpts(title=\"进球数最多的国家Top10\"))\n",
    "radar.render(\"radar_chart.html\")\n"
   ]
  },
  {
   "cell_type": "code",
   "execution_count": 28,
   "metadata": {},
   "outputs": [
    {
     "data": {
      "text/plain": [
       "'e:\\\\自己玩的数据\\\\数据可视化\\\\wordcloud_chart.html'"
      ]
     },
     "execution_count": 28,
     "metadata": {},
     "output_type": "execute_result"
    }
   ],
   "source": [
    "import pandas as pd\n",
    "from pyecharts.charts import WordCloud\n",
    "from pyecharts import options as opts\n",
    "\n",
    "# 读取数据\n",
    "data = pd.read_csv(\"E:\\自己玩的数据\\数据可视化\\WorldCupMatches.csv\")\n",
    "\n",
    "# 统计进球数最多的国家\n",
    "goals = data.groupby(\"Home Team Name\")[\"Home Team Goals\"].sum() + data.groupby(\"Away Team Name\")[\"Away Team Goals\"].sum()\n",
    "top_countries = goals.sort_values(ascending=False).head(20)\n",
    "\n",
    "# 准备数据\n",
    "words = [(country, count) for country, count in zip(top_countries.index.tolist(), top_countries.tolist())]\n",
    "\n",
    "# 绘制词云\n",
    "wordcloud = WordCloud()\n",
    "wordcloud.add(\"\", words, word_size_range=[20, 100], shape=\"circle\")\n",
    "wordcloud.set_global_opts(title_opts=opts.TitleOpts(title=\"进球数最多的国家Top10\"))\n",
    "wordcloud.render(\"wordcloud_chart.html\")"
   ]
  },
  {
   "cell_type": "code",
   "execution_count": 38,
   "metadata": {},
   "outputs": [
    {
     "ename": "TypeError",
     "evalue": "__init__() got an unexpected keyword argument 'z'",
     "output_type": "error",
     "traceback": [
      "\u001b[1;31m---------------------------------------------------------------------------\u001b[0m",
      "\u001b[1;31mTypeError\u001b[0m                                 Traceback (most recent call last)",
      "\u001b[1;32me:\\自己玩的数据\\数据可视化\\可视化.ipynb 单元格 8\u001b[0m in \u001b[0;36m<cell line: 42>\u001b[1;34m()\u001b[0m\n\u001b[0;32m     <a href='vscode-notebook-cell:/e%3A/%E8%87%AA%E5%B7%B1%E7%8E%A9%E7%9A%84%E6%95%B0%E6%8D%AE/%E6%95%B0%E6%8D%AE%E5%8F%AF%E8%A7%86%E5%8C%96/%E5%8F%AF%E8%A7%86%E5%8C%96.ipynb#X12sZmlsZQ%3D%3D?line=30'>31</a>\u001b[0m line\u001b[39m.\u001b[39mset_global_opts(\n\u001b[0;32m     <a href='vscode-notebook-cell:/e%3A/%E8%87%AA%E5%B7%B1%E7%8E%A9%E7%9A%84%E6%95%B0%E6%8D%AE/%E6%95%B0%E6%8D%AE%E5%8F%AF%E8%A7%86%E5%8C%96/%E5%8F%AF%E8%A7%86%E5%8C%96.ipynb#X12sZmlsZQ%3D%3D?line=31'>32</a>\u001b[0m     title_opts\u001b[39m=\u001b[39mopts\u001b[39m.\u001b[39mTitleOpts(title\u001b[39m=\u001b[39m\u001b[39m\"\u001b[39m\u001b[39m冠亚季军每年得球总数变化\u001b[39m\u001b[39m\"\u001b[39m, subtitle\u001b[39m=\u001b[39m\u001b[39m\"\u001b[39m\u001b[39m（显示冠亚季军名称）\u001b[39m\u001b[39m\"\u001b[39m),\n\u001b[0;32m     <a href='vscode-notebook-cell:/e%3A/%E8%87%AA%E5%B7%B1%E7%8E%A9%E7%9A%84%E6%95%B0%E6%8D%AE/%E6%95%B0%E6%8D%AE%E5%8F%AF%E8%A7%86%E5%8C%96/%E5%8F%AF%E8%A7%86%E5%8C%96.ipynb#X12sZmlsZQ%3D%3D?line=32'>33</a>\u001b[0m     xaxis_opts\u001b[39m=\u001b[39mopts\u001b[39m.\u001b[39mAxisOpts(type_\u001b[39m=\u001b[39m\u001b[39m\"\u001b[39m\u001b[39mcategory\u001b[39m\u001b[39m\"\u001b[39m, boundary_gap\u001b[39m=\u001b[39m\u001b[39mFalse\u001b[39;00m),\n\u001b[1;32m   (...)\u001b[0m\n\u001b[0;32m     <a href='vscode-notebook-cell:/e%3A/%E8%87%AA%E5%B7%B1%E7%8E%A9%E7%9A%84%E6%95%B0%E6%8D%AE/%E6%95%B0%E6%8D%AE%E5%8F%AF%E8%A7%86%E5%8C%96/%E5%8F%AF%E8%A7%86%E5%8C%96.ipynb#X12sZmlsZQ%3D%3D?line=35'>36</a>\u001b[0m     tooltip_opts\u001b[39m=\u001b[39mopts\u001b[39m.\u001b[39mTooltipOpts(trigger\u001b[39m=\u001b[39m\u001b[39m\"\u001b[39m\u001b[39maxis\u001b[39m\u001b[39m\"\u001b[39m)\n\u001b[0;32m     <a href='vscode-notebook-cell:/e%3A/%E8%87%AA%E5%B7%B1%E7%8E%A9%E7%9A%84%E6%95%B0%E6%8D%AE/%E6%95%B0%E6%8D%AE%E5%8F%AF%E8%A7%86%E5%8C%96/%E5%8F%AF%E8%A7%86%E5%8C%96.ipynb#X12sZmlsZQ%3D%3D?line=36'>37</a>\u001b[0m )\n\u001b[0;32m     <a href='vscode-notebook-cell:/e%3A/%E8%87%AA%E5%B7%B1%E7%8E%A9%E7%9A%84%E6%95%B0%E6%8D%AE/%E6%95%B0%E6%8D%AE%E5%8F%AF%E8%A7%86%E5%8C%96/%E5%8F%AF%E8%A7%86%E5%8C%96.ipynb#X12sZmlsZQ%3D%3D?line=37'>38</a>\u001b[0m scatter\u001b[39m.\u001b[39mset_series_opts(\n\u001b[0;32m     <a href='vscode-notebook-cell:/e%3A/%E8%87%AA%E5%B7%B1%E7%8E%A9%E7%9A%84%E6%95%B0%E6%8D%AE/%E6%95%B0%E6%8D%AE%E5%8F%AF%E8%A7%86%E5%8C%96/%E5%8F%AF%E8%A7%86%E5%8C%96.ipynb#X12sZmlsZQ%3D%3D?line=38'>39</a>\u001b[0m     label_opts\u001b[39m=\u001b[39mopts\u001b[39m.\u001b[39mLabelOpts(position\u001b[39m=\u001b[39m\u001b[39m\"\u001b[39m\u001b[39mtop\u001b[39m\u001b[39m\"\u001b[39m),\n\u001b[0;32m     <a href='vscode-notebook-cell:/e%3A/%E8%87%AA%E5%B7%B1%E7%8E%A9%E7%9A%84%E6%95%B0%E6%8D%AE/%E6%95%B0%E6%8D%AE%E5%8F%AF%E8%A7%86%E5%8C%96/%E5%8F%AF%E8%A7%86%E5%8C%96.ipynb#X12sZmlsZQ%3D%3D?line=39'>40</a>\u001b[0m     itemstyle_opts\u001b[39m=\u001b[39mopts\u001b[39m.\u001b[39mItemStyleOpts(color\u001b[39m=\u001b[39m\u001b[39m\"\u001b[39m\u001b[39m#ffffff\u001b[39m\u001b[39m\"\u001b[39m, border_width\u001b[39m=\u001b[39m\u001b[39m2\u001b[39m, border_color\u001b[39m=\u001b[39m\u001b[39m\"\u001b[39m\u001b[39m#000000\u001b[39m\u001b[39m\"\u001b[39m)\n\u001b[0;32m     <a href='vscode-notebook-cell:/e%3A/%E8%87%AA%E5%B7%B1%E7%8E%A9%E7%9A%84%E6%95%B0%E6%8D%AE/%E6%95%B0%E6%8D%AE%E5%8F%AF%E8%A7%86%E5%8C%96/%E5%8F%AF%E8%A7%86%E5%8C%96.ipynb#X12sZmlsZQ%3D%3D?line=40'>41</a>\u001b[0m )\n\u001b[0;32m     <a href='vscode-notebook-cell:/e%3A/%E8%87%AA%E5%B7%B1%E7%8E%A9%E7%9A%84%E6%95%B0%E6%8D%AE/%E6%95%B0%E6%8D%AE%E5%8F%AF%E8%A7%86%E5%8C%96/%E5%8F%AF%E8%A7%86%E5%8C%96.ipynb#X12sZmlsZQ%3D%3D?line=41'>42</a>\u001b[0m scatter\u001b[39m.\u001b[39mset_global_opts(\n\u001b[0;32m     <a href='vscode-notebook-cell:/e%3A/%E8%87%AA%E5%B7%B1%E7%8E%A9%E7%9A%84%E6%95%B0%E6%8D%AE/%E6%95%B0%E6%8D%AE%E5%8F%AF%E8%A7%86%E5%8C%96/%E5%8F%AF%E8%A7%86%E5%8C%96.ipynb#X12sZmlsZQ%3D%3D?line=42'>43</a>\u001b[0m     title_opts\u001b[39m=\u001b[39mopts\u001b[39m.\u001b[39mTitleOpts(title\u001b[39m=\u001b[39m\u001b[39m\"\u001b[39m\u001b[39m冠亚季军名称\u001b[39m\u001b[39m\"\u001b[39m, subtitle\u001b[39m=\u001b[39m\u001b[39m\"\u001b[39m\u001b[39m（以散点图方式显示）\u001b[39m\u001b[39m\"\u001b[39m),\n\u001b[0;32m     <a href='vscode-notebook-cell:/e%3A/%E8%87%AA%E5%B7%B1%E7%8E%A9%E7%9A%84%E6%95%B0%E6%8D%AE/%E6%95%B0%E6%8D%AE%E5%8F%AF%E8%A7%86%E5%8C%96/%E5%8F%AF%E8%A7%86%E5%8C%96.ipynb#X12sZmlsZQ%3D%3D?line=43'>44</a>\u001b[0m     xaxis_opts\u001b[39m=\u001b[39mopts\u001b[39m.\u001b[39mAxisOpts(is_show\u001b[39m=\u001b[39m\u001b[39mFalse\u001b[39;00m),\n\u001b[0;32m     <a href='vscode-notebook-cell:/e%3A/%E8%87%AA%E5%B7%B1%E7%8E%A9%E7%9A%84%E6%95%B0%E6%8D%AE/%E6%95%B0%E6%8D%AE%E5%8F%AF%E8%A7%86%E5%8C%96/%E5%8F%AF%E8%A7%86%E5%8C%96.ipynb#X12sZmlsZQ%3D%3D?line=44'>45</a>\u001b[0m     yaxis_opts\u001b[39m=\u001b[39mopts\u001b[39m.\u001b[39mAxisOpts(is_show\u001b[39m=\u001b[39m\u001b[39mFalse\u001b[39;00m),\n\u001b[0;32m     <a href='vscode-notebook-cell:/e%3A/%E8%87%AA%E5%B7%B1%E7%8E%A9%E7%9A%84%E6%95%B0%E6%8D%AE/%E6%95%B0%E6%8D%AE%E5%8F%AF%E8%A7%86%E5%8C%96/%E5%8F%AF%E8%A7%86%E5%8C%96.ipynb#X12sZmlsZQ%3D%3D?line=45'>46</a>\u001b[0m     legend_opts\u001b[39m=\u001b[39mopts\u001b[39m.\u001b[39mLegendOpts(is_show\u001b[39m=\u001b[39m\u001b[39mFalse\u001b[39;00m),\n\u001b[0;32m     <a href='vscode-notebook-cell:/e%3A/%E8%87%AA%E5%B7%B1%E7%8E%A9%E7%9A%84%E6%95%B0%E6%8D%AE/%E6%95%B0%E6%8D%AE%E5%8F%AF%E8%A7%86%E5%8C%96/%E5%8F%AF%E8%A7%86%E5%8C%96.ipynb#X12sZmlsZQ%3D%3D?line=46'>47</a>\u001b[0m     graphic_opts\u001b[39m=\u001b[39m[opts\u001b[39m.\u001b[39mGraphicGroup(\n\u001b[0;32m     <a href='vscode-notebook-cell:/e%3A/%E8%87%AA%E5%B7%B1%E7%8E%A9%E7%9A%84%E6%95%B0%E6%8D%AE/%E6%95%B0%E6%8D%AE%E5%8F%AF%E8%A7%86%E5%8C%96/%E5%8F%AF%E8%A7%86%E5%8C%96.ipynb#X12sZmlsZQ%3D%3D?line=47'>48</a>\u001b[0m         graphic_item\u001b[39m=\u001b[39mopts\u001b[39m.\u001b[39mGraphicItem(\n\u001b[0;32m     <a href='vscode-notebook-cell:/e%3A/%E8%87%AA%E5%B7%B1%E7%8E%A9%E7%9A%84%E6%95%B0%E6%8D%AE/%E6%95%B0%E6%8D%AE%E5%8F%AF%E8%A7%86%E5%8C%96/%E5%8F%AF%E8%A7%86%E5%8C%96.ipynb#X12sZmlsZQ%3D%3D?line=48'>49</a>\u001b[0m             left\u001b[39m=\u001b[39m\u001b[39m\"\u001b[39m\u001b[39mcenter\u001b[39m\u001b[39m\"\u001b[39m, top\u001b[39m=\u001b[39m\u001b[39m\"\u001b[39m\u001b[39m70\u001b[39m\u001b[39m%\u001b[39m\u001b[39m\"\u001b[39m, z\u001b[39m=\u001b[39m\u001b[39m100\u001b[39m, bounding\u001b[39m=\u001b[39m\u001b[39m\"\u001b[39m\u001b[39mraw\u001b[39m\u001b[39m\"\u001b[39m, \n\u001b[1;32m---> <a href='vscode-notebook-cell:/e%3A/%E8%87%AA%E5%B7%B1%E7%8E%A9%E7%9A%84%E6%95%B0%E6%8D%AE/%E6%95%B0%E6%8D%AE%E5%8F%AF%E8%A7%86%E5%8C%96/%E5%8F%AF%E8%A7%86%E5%8C%96.ipynb#X12sZmlsZQ%3D%3D?line=49'>50</a>\u001b[0m             children\u001b[39m=\u001b[39m[opts\u001b[39m.\u001b[39mLabelOpts(\n\u001b[0;32m     <a href='vscode-notebook-cell:/e%3A/%E8%87%AA%E5%B7%B1%E7%8E%A9%E7%9A%84%E6%95%B0%E6%8D%AE/%E6%95%B0%E6%8D%AE%E5%8F%AF%E8%A7%86%E5%8C%96/%E5%8F%AF%E8%A7%86%E5%8C%96.ipynb#X12sZmlsZQ%3D%3D?line=50'>51</a>\u001b[0m                 z\u001b[39m=\u001b[39m\u001b[39m100\u001b[39m, left\u001b[39m=\u001b[39m\u001b[39m\"\u001b[39m\u001b[39mcenter\u001b[39m\u001b[39m\"\u001b[39m, top\u001b[39m=\u001b[39m\u001b[39m\"\u001b[39m\u001b[39mmiddle\u001b[39m\u001b[39m\"\u001b[39m, style_opts\u001b[39m=\u001b[39mopts\u001b[39m.\u001b[39mTextStyleOpts(font_size\u001b[39m=\u001b[39m\u001b[39m14\u001b[39m), \n\u001b[0;32m     <a href='vscode-notebook-cell:/e%3A/%E8%87%AA%E5%B7%B1%E7%8E%A9%E7%9A%84%E6%95%B0%E6%8D%AE/%E6%95%B0%E6%8D%AE%E5%8F%AF%E8%A7%86%E5%8C%96/%E5%8F%AF%E8%A7%86%E5%8C%96.ipynb#X12sZmlsZQ%3D%3D?line=51'>52</a>\u001b[0m                 formatter\u001b[39m=\u001b[39mtop_3[\u001b[39m\"\u001b[39m\u001b[39mYear\u001b[39m\u001b[39m\"\u001b[39m][i]\n\u001b[0;32m     <a href='vscode-notebook-cell:/e%3A/%E8%87%AA%E5%B7%B1%E7%8E%A9%E7%9A%84%E6%95%B0%E6%8D%AE/%E6%95%B0%E6%8D%AE%E5%8F%AF%E8%A7%86%E5%8C%96/%E5%8F%AF%E8%A7%86%E5%8C%96.ipynb#X12sZmlsZQ%3D%3D?line=52'>53</a>\u001b[0m             ) \u001b[39mfor\u001b[39;00m i \u001b[39min\u001b[39;00m \u001b[39mrange\u001b[39m(\u001b[39mlen\u001b[39m(top_3))]\n\u001b[0;32m     <a href='vscode-notebook-cell:/e%3A/%E8%87%AA%E5%B7%B1%E7%8E%A9%E7%9A%84%E6%95%B0%E6%8D%AE/%E6%95%B0%E6%8D%AE%E5%8F%AF%E8%A7%86%E5%8C%96/%E5%8F%AF%E8%A7%86%E5%8C%96.ipynb#X12sZmlsZQ%3D%3D?line=53'>54</a>\u001b[0m         )\n\u001b[0;32m     <a href='vscode-notebook-cell:/e%3A/%E8%87%AA%E5%B7%B1%E7%8E%A9%E7%9A%84%E6%95%B0%E6%8D%AE/%E6%95%B0%E6%8D%AE%E5%8F%AF%E8%A7%86%E5%8C%96/%E5%8F%AF%E8%A7%86%E5%8C%96.ipynb#X12sZmlsZQ%3D%3D?line=54'>55</a>\u001b[0m     )]\n\u001b[0;32m     <a href='vscode-notebook-cell:/e%3A/%E8%87%AA%E5%B7%B1%E7%8E%A9%E7%9A%84%E6%95%B0%E6%8D%AE/%E6%95%B0%E6%8D%AE%E5%8F%AF%E8%A7%86%E5%8C%96/%E5%8F%AF%E8%A7%86%E5%8C%96.ipynb#X12sZmlsZQ%3D%3D?line=55'>56</a>\u001b[0m )\n\u001b[0;32m     <a href='vscode-notebook-cell:/e%3A/%E8%87%AA%E5%B7%B1%E7%8E%A9%E7%9A%84%E6%95%B0%E6%8D%AE/%E6%95%B0%E6%8D%AE%E5%8F%AF%E8%A7%86%E5%8C%96/%E5%8F%AF%E8%A7%86%E5%8C%96.ipynb#X12sZmlsZQ%3D%3D?line=57'>58</a>\u001b[0m \u001b[39m# 合并图表\u001b[39;00m\n\u001b[0;32m     <a href='vscode-notebook-cell:/e%3A/%E8%87%AA%E5%B7%B1%E7%8E%A9%E7%9A%84%E6%95%B0%E6%8D%AE/%E6%95%B0%E6%8D%AE%E5%8F%AF%E8%A7%86%E5%8C%96/%E5%8F%AF%E8%A7%86%E5%8C%96.ipynb#X12sZmlsZQ%3D%3D?line=58'>59</a>\u001b[0m line\u001b[39m.\u001b[39moverlap(scatter)\n",
      "\u001b[1;32me:\\自己玩的数据\\数据可视化\\可视化.ipynb 单元格 8\u001b[0m in \u001b[0;36m<listcomp>\u001b[1;34m(.0)\u001b[0m\n\u001b[0;32m     <a href='vscode-notebook-cell:/e%3A/%E8%87%AA%E5%B7%B1%E7%8E%A9%E7%9A%84%E6%95%B0%E6%8D%AE/%E6%95%B0%E6%8D%AE%E5%8F%AF%E8%A7%86%E5%8C%96/%E5%8F%AF%E8%A7%86%E5%8C%96.ipynb#X12sZmlsZQ%3D%3D?line=30'>31</a>\u001b[0m line\u001b[39m.\u001b[39mset_global_opts(\n\u001b[0;32m     <a href='vscode-notebook-cell:/e%3A/%E8%87%AA%E5%B7%B1%E7%8E%A9%E7%9A%84%E6%95%B0%E6%8D%AE/%E6%95%B0%E6%8D%AE%E5%8F%AF%E8%A7%86%E5%8C%96/%E5%8F%AF%E8%A7%86%E5%8C%96.ipynb#X12sZmlsZQ%3D%3D?line=31'>32</a>\u001b[0m     title_opts\u001b[39m=\u001b[39mopts\u001b[39m.\u001b[39mTitleOpts(title\u001b[39m=\u001b[39m\u001b[39m\"\u001b[39m\u001b[39m冠亚季军每年得球总数变化\u001b[39m\u001b[39m\"\u001b[39m, subtitle\u001b[39m=\u001b[39m\u001b[39m\"\u001b[39m\u001b[39m（显示冠亚季军名称）\u001b[39m\u001b[39m\"\u001b[39m),\n\u001b[0;32m     <a href='vscode-notebook-cell:/e%3A/%E8%87%AA%E5%B7%B1%E7%8E%A9%E7%9A%84%E6%95%B0%E6%8D%AE/%E6%95%B0%E6%8D%AE%E5%8F%AF%E8%A7%86%E5%8C%96/%E5%8F%AF%E8%A7%86%E5%8C%96.ipynb#X12sZmlsZQ%3D%3D?line=32'>33</a>\u001b[0m     xaxis_opts\u001b[39m=\u001b[39mopts\u001b[39m.\u001b[39mAxisOpts(type_\u001b[39m=\u001b[39m\u001b[39m\"\u001b[39m\u001b[39mcategory\u001b[39m\u001b[39m\"\u001b[39m, boundary_gap\u001b[39m=\u001b[39m\u001b[39mFalse\u001b[39;00m),\n\u001b[1;32m   (...)\u001b[0m\n\u001b[0;32m     <a href='vscode-notebook-cell:/e%3A/%E8%87%AA%E5%B7%B1%E7%8E%A9%E7%9A%84%E6%95%B0%E6%8D%AE/%E6%95%B0%E6%8D%AE%E5%8F%AF%E8%A7%86%E5%8C%96/%E5%8F%AF%E8%A7%86%E5%8C%96.ipynb#X12sZmlsZQ%3D%3D?line=35'>36</a>\u001b[0m     tooltip_opts\u001b[39m=\u001b[39mopts\u001b[39m.\u001b[39mTooltipOpts(trigger\u001b[39m=\u001b[39m\u001b[39m\"\u001b[39m\u001b[39maxis\u001b[39m\u001b[39m\"\u001b[39m)\n\u001b[0;32m     <a href='vscode-notebook-cell:/e%3A/%E8%87%AA%E5%B7%B1%E7%8E%A9%E7%9A%84%E6%95%B0%E6%8D%AE/%E6%95%B0%E6%8D%AE%E5%8F%AF%E8%A7%86%E5%8C%96/%E5%8F%AF%E8%A7%86%E5%8C%96.ipynb#X12sZmlsZQ%3D%3D?line=36'>37</a>\u001b[0m )\n\u001b[0;32m     <a href='vscode-notebook-cell:/e%3A/%E8%87%AA%E5%B7%B1%E7%8E%A9%E7%9A%84%E6%95%B0%E6%8D%AE/%E6%95%B0%E6%8D%AE%E5%8F%AF%E8%A7%86%E5%8C%96/%E5%8F%AF%E8%A7%86%E5%8C%96.ipynb#X12sZmlsZQ%3D%3D?line=37'>38</a>\u001b[0m scatter\u001b[39m.\u001b[39mset_series_opts(\n\u001b[0;32m     <a href='vscode-notebook-cell:/e%3A/%E8%87%AA%E5%B7%B1%E7%8E%A9%E7%9A%84%E6%95%B0%E6%8D%AE/%E6%95%B0%E6%8D%AE%E5%8F%AF%E8%A7%86%E5%8C%96/%E5%8F%AF%E8%A7%86%E5%8C%96.ipynb#X12sZmlsZQ%3D%3D?line=38'>39</a>\u001b[0m     label_opts\u001b[39m=\u001b[39mopts\u001b[39m.\u001b[39mLabelOpts(position\u001b[39m=\u001b[39m\u001b[39m\"\u001b[39m\u001b[39mtop\u001b[39m\u001b[39m\"\u001b[39m),\n\u001b[0;32m     <a href='vscode-notebook-cell:/e%3A/%E8%87%AA%E5%B7%B1%E7%8E%A9%E7%9A%84%E6%95%B0%E6%8D%AE/%E6%95%B0%E6%8D%AE%E5%8F%AF%E8%A7%86%E5%8C%96/%E5%8F%AF%E8%A7%86%E5%8C%96.ipynb#X12sZmlsZQ%3D%3D?line=39'>40</a>\u001b[0m     itemstyle_opts\u001b[39m=\u001b[39mopts\u001b[39m.\u001b[39mItemStyleOpts(color\u001b[39m=\u001b[39m\u001b[39m\"\u001b[39m\u001b[39m#ffffff\u001b[39m\u001b[39m\"\u001b[39m, border_width\u001b[39m=\u001b[39m\u001b[39m2\u001b[39m, border_color\u001b[39m=\u001b[39m\u001b[39m\"\u001b[39m\u001b[39m#000000\u001b[39m\u001b[39m\"\u001b[39m)\n\u001b[0;32m     <a href='vscode-notebook-cell:/e%3A/%E8%87%AA%E5%B7%B1%E7%8E%A9%E7%9A%84%E6%95%B0%E6%8D%AE/%E6%95%B0%E6%8D%AE%E5%8F%AF%E8%A7%86%E5%8C%96/%E5%8F%AF%E8%A7%86%E5%8C%96.ipynb#X12sZmlsZQ%3D%3D?line=40'>41</a>\u001b[0m )\n\u001b[0;32m     <a href='vscode-notebook-cell:/e%3A/%E8%87%AA%E5%B7%B1%E7%8E%A9%E7%9A%84%E6%95%B0%E6%8D%AE/%E6%95%B0%E6%8D%AE%E5%8F%AF%E8%A7%86%E5%8C%96/%E5%8F%AF%E8%A7%86%E5%8C%96.ipynb#X12sZmlsZQ%3D%3D?line=41'>42</a>\u001b[0m scatter\u001b[39m.\u001b[39mset_global_opts(\n\u001b[0;32m     <a href='vscode-notebook-cell:/e%3A/%E8%87%AA%E5%B7%B1%E7%8E%A9%E7%9A%84%E6%95%B0%E6%8D%AE/%E6%95%B0%E6%8D%AE%E5%8F%AF%E8%A7%86%E5%8C%96/%E5%8F%AF%E8%A7%86%E5%8C%96.ipynb#X12sZmlsZQ%3D%3D?line=42'>43</a>\u001b[0m     title_opts\u001b[39m=\u001b[39mopts\u001b[39m.\u001b[39mTitleOpts(title\u001b[39m=\u001b[39m\u001b[39m\"\u001b[39m\u001b[39m冠亚季军名称\u001b[39m\u001b[39m\"\u001b[39m, subtitle\u001b[39m=\u001b[39m\u001b[39m\"\u001b[39m\u001b[39m（以散点图方式显示）\u001b[39m\u001b[39m\"\u001b[39m),\n\u001b[0;32m     <a href='vscode-notebook-cell:/e%3A/%E8%87%AA%E5%B7%B1%E7%8E%A9%E7%9A%84%E6%95%B0%E6%8D%AE/%E6%95%B0%E6%8D%AE%E5%8F%AF%E8%A7%86%E5%8C%96/%E5%8F%AF%E8%A7%86%E5%8C%96.ipynb#X12sZmlsZQ%3D%3D?line=43'>44</a>\u001b[0m     xaxis_opts\u001b[39m=\u001b[39mopts\u001b[39m.\u001b[39mAxisOpts(is_show\u001b[39m=\u001b[39m\u001b[39mFalse\u001b[39;00m),\n\u001b[0;32m     <a href='vscode-notebook-cell:/e%3A/%E8%87%AA%E5%B7%B1%E7%8E%A9%E7%9A%84%E6%95%B0%E6%8D%AE/%E6%95%B0%E6%8D%AE%E5%8F%AF%E8%A7%86%E5%8C%96/%E5%8F%AF%E8%A7%86%E5%8C%96.ipynb#X12sZmlsZQ%3D%3D?line=44'>45</a>\u001b[0m     yaxis_opts\u001b[39m=\u001b[39mopts\u001b[39m.\u001b[39mAxisOpts(is_show\u001b[39m=\u001b[39m\u001b[39mFalse\u001b[39;00m),\n\u001b[0;32m     <a href='vscode-notebook-cell:/e%3A/%E8%87%AA%E5%B7%B1%E7%8E%A9%E7%9A%84%E6%95%B0%E6%8D%AE/%E6%95%B0%E6%8D%AE%E5%8F%AF%E8%A7%86%E5%8C%96/%E5%8F%AF%E8%A7%86%E5%8C%96.ipynb#X12sZmlsZQ%3D%3D?line=45'>46</a>\u001b[0m     legend_opts\u001b[39m=\u001b[39mopts\u001b[39m.\u001b[39mLegendOpts(is_show\u001b[39m=\u001b[39m\u001b[39mFalse\u001b[39;00m),\n\u001b[0;32m     <a href='vscode-notebook-cell:/e%3A/%E8%87%AA%E5%B7%B1%E7%8E%A9%E7%9A%84%E6%95%B0%E6%8D%AE/%E6%95%B0%E6%8D%AE%E5%8F%AF%E8%A7%86%E5%8C%96/%E5%8F%AF%E8%A7%86%E5%8C%96.ipynb#X12sZmlsZQ%3D%3D?line=46'>47</a>\u001b[0m     graphic_opts\u001b[39m=\u001b[39m[opts\u001b[39m.\u001b[39mGraphicGroup(\n\u001b[0;32m     <a href='vscode-notebook-cell:/e%3A/%E8%87%AA%E5%B7%B1%E7%8E%A9%E7%9A%84%E6%95%B0%E6%8D%AE/%E6%95%B0%E6%8D%AE%E5%8F%AF%E8%A7%86%E5%8C%96/%E5%8F%AF%E8%A7%86%E5%8C%96.ipynb#X12sZmlsZQ%3D%3D?line=47'>48</a>\u001b[0m         graphic_item\u001b[39m=\u001b[39mopts\u001b[39m.\u001b[39mGraphicItem(\n\u001b[0;32m     <a href='vscode-notebook-cell:/e%3A/%E8%87%AA%E5%B7%B1%E7%8E%A9%E7%9A%84%E6%95%B0%E6%8D%AE/%E6%95%B0%E6%8D%AE%E5%8F%AF%E8%A7%86%E5%8C%96/%E5%8F%AF%E8%A7%86%E5%8C%96.ipynb#X12sZmlsZQ%3D%3D?line=48'>49</a>\u001b[0m             left\u001b[39m=\u001b[39m\u001b[39m\"\u001b[39m\u001b[39mcenter\u001b[39m\u001b[39m\"\u001b[39m, top\u001b[39m=\u001b[39m\u001b[39m\"\u001b[39m\u001b[39m70\u001b[39m\u001b[39m%\u001b[39m\u001b[39m\"\u001b[39m, z\u001b[39m=\u001b[39m\u001b[39m100\u001b[39m, bounding\u001b[39m=\u001b[39m\u001b[39m\"\u001b[39m\u001b[39mraw\u001b[39m\u001b[39m\"\u001b[39m, \n\u001b[1;32m---> <a href='vscode-notebook-cell:/e%3A/%E8%87%AA%E5%B7%B1%E7%8E%A9%E7%9A%84%E6%95%B0%E6%8D%AE/%E6%95%B0%E6%8D%AE%E5%8F%AF%E8%A7%86%E5%8C%96/%E5%8F%AF%E8%A7%86%E5%8C%96.ipynb#X12sZmlsZQ%3D%3D?line=49'>50</a>\u001b[0m             children\u001b[39m=\u001b[39m[opts\u001b[39m.\u001b[39;49mLabelOpts(\n\u001b[0;32m     <a href='vscode-notebook-cell:/e%3A/%E8%87%AA%E5%B7%B1%E7%8E%A9%E7%9A%84%E6%95%B0%E6%8D%AE/%E6%95%B0%E6%8D%AE%E5%8F%AF%E8%A7%86%E5%8C%96/%E5%8F%AF%E8%A7%86%E5%8C%96.ipynb#X12sZmlsZQ%3D%3D?line=50'>51</a>\u001b[0m                 z\u001b[39m=\u001b[39;49m\u001b[39m100\u001b[39;49m, left\u001b[39m=\u001b[39;49m\u001b[39m\"\u001b[39;49m\u001b[39mcenter\u001b[39;49m\u001b[39m\"\u001b[39;49m, top\u001b[39m=\u001b[39;49m\u001b[39m\"\u001b[39;49m\u001b[39mmiddle\u001b[39;49m\u001b[39m\"\u001b[39;49m, style_opts\u001b[39m=\u001b[39;49mopts\u001b[39m.\u001b[39;49mTextStyleOpts(font_size\u001b[39m=\u001b[39;49m\u001b[39m14\u001b[39;49m), \n\u001b[0;32m     <a href='vscode-notebook-cell:/e%3A/%E8%87%AA%E5%B7%B1%E7%8E%A9%E7%9A%84%E6%95%B0%E6%8D%AE/%E6%95%B0%E6%8D%AE%E5%8F%AF%E8%A7%86%E5%8C%96/%E5%8F%AF%E8%A7%86%E5%8C%96.ipynb#X12sZmlsZQ%3D%3D?line=51'>52</a>\u001b[0m                 formatter\u001b[39m=\u001b[39;49mtop_3[\u001b[39m\"\u001b[39;49m\u001b[39mYear\u001b[39;49m\u001b[39m\"\u001b[39;49m][i]\n\u001b[0;32m     <a href='vscode-notebook-cell:/e%3A/%E8%87%AA%E5%B7%B1%E7%8E%A9%E7%9A%84%E6%95%B0%E6%8D%AE/%E6%95%B0%E6%8D%AE%E5%8F%AF%E8%A7%86%E5%8C%96/%E5%8F%AF%E8%A7%86%E5%8C%96.ipynb#X12sZmlsZQ%3D%3D?line=52'>53</a>\u001b[0m             ) \u001b[39mfor\u001b[39;00m i \u001b[39min\u001b[39;00m \u001b[39mrange\u001b[39m(\u001b[39mlen\u001b[39m(top_3))]\n\u001b[0;32m     <a href='vscode-notebook-cell:/e%3A/%E8%87%AA%E5%B7%B1%E7%8E%A9%E7%9A%84%E6%95%B0%E6%8D%AE/%E6%95%B0%E6%8D%AE%E5%8F%AF%E8%A7%86%E5%8C%96/%E5%8F%AF%E8%A7%86%E5%8C%96.ipynb#X12sZmlsZQ%3D%3D?line=53'>54</a>\u001b[0m         )\n\u001b[0;32m     <a href='vscode-notebook-cell:/e%3A/%E8%87%AA%E5%B7%B1%E7%8E%A9%E7%9A%84%E6%95%B0%E6%8D%AE/%E6%95%B0%E6%8D%AE%E5%8F%AF%E8%A7%86%E5%8C%96/%E5%8F%AF%E8%A7%86%E5%8C%96.ipynb#X12sZmlsZQ%3D%3D?line=54'>55</a>\u001b[0m     )]\n\u001b[0;32m     <a href='vscode-notebook-cell:/e%3A/%E8%87%AA%E5%B7%B1%E7%8E%A9%E7%9A%84%E6%95%B0%E6%8D%AE/%E6%95%B0%E6%8D%AE%E5%8F%AF%E8%A7%86%E5%8C%96/%E5%8F%AF%E8%A7%86%E5%8C%96.ipynb#X12sZmlsZQ%3D%3D?line=55'>56</a>\u001b[0m )\n\u001b[0;32m     <a href='vscode-notebook-cell:/e%3A/%E8%87%AA%E5%B7%B1%E7%8E%A9%E7%9A%84%E6%95%B0%E6%8D%AE/%E6%95%B0%E6%8D%AE%E5%8F%AF%E8%A7%86%E5%8C%96/%E5%8F%AF%E8%A7%86%E5%8C%96.ipynb#X12sZmlsZQ%3D%3D?line=57'>58</a>\u001b[0m \u001b[39m# 合并图表\u001b[39;00m\n\u001b[0;32m     <a href='vscode-notebook-cell:/e%3A/%E8%87%AA%E5%B7%B1%E7%8E%A9%E7%9A%84%E6%95%B0%E6%8D%AE/%E6%95%B0%E6%8D%AE%E5%8F%AF%E8%A7%86%E5%8C%96/%E5%8F%AF%E8%A7%86%E5%8C%96.ipynb#X12sZmlsZQ%3D%3D?line=58'>59</a>\u001b[0m line\u001b[39m.\u001b[39moverlap(scatter)\n",
      "\u001b[1;31mTypeError\u001b[0m: __init__() got an unexpected keyword argument 'z'"
     ]
    }
   ],
   "source": [
    "import pandas as pd\n",
    "from pyecharts.charts import Line, Scatter\n",
    "from pyecharts import options as opts\n",
    "\n",
    "# 读取数据\n",
    "data = pd.read_csv(\"E:\\自己玩的数据\\数据可视化\\WorldCupMatches.csv\")\n",
    "\n",
    "# 取冠亚季军每年的得分情况\n",
    "top_3 = data[data[\"Stage\"].isin([\"Final\", \"Semi-finals\", \"Play-off for third place\"])]\n",
    "top_3 = top_3[[\"Year\", \"Stage\", \"Home Team Goals\", \"Away Team Goals\"]]\n",
    "top_3 = top_3.groupby([\"Year\", \"Stage\"]).sum().reset_index()\n",
    "\n",
    "# 转换数据格式，为每年的得分创建一行\n",
    "top_3 = top_3.pivot(index=\"Year\", columns=\"Stage\", values=[\"Home Team Goals\", \"Away Team Goals\"])\n",
    "top_3.columns = [\"_\".join(col).strip() for col in top_3.columns.values]\n",
    "top_3 = top_3.reset_index()\n",
    "\n",
    "# 创建折线图\n",
    "line = Line()\n",
    "scatter = Scatter()\n",
    "\n",
    "# 添加数据\n",
    "for stage in [\"Home Team Goals_Final\", \"Home Team Goals_Semi-finals\", \"Home Team Goals_Play-off for third place\"]:\n",
    "    line.add_xaxis(list(top_3[\"Year\"]))\n",
    "    line.add_yaxis(stage.replace(\"_\", \" \"), list(top_3[stage]))\n",
    "for stage in [\"Away Team Goals_Final\", \"Away Team Goals_Semi-finals\", \"Away Team Goals_Play-off for third place\"]:\n",
    "    scatter.add_xaxis(list(top_3[\"Year\"]))\n",
    "    scatter.add_yaxis(stage.replace(\"_\", \" \"), list(top_3[stage]), label_opts=opts.LabelOpts(is_show=False), symbol_size=8)\n",
    "\n",
    "# 设置图表样式和布局\n",
    "line.set_global_opts(\n",
    "    title_opts=opts.TitleOpts(title=\"冠亚季军每年得球总数变化\", subtitle=\"（显示冠亚季军名称）\"),\n",
    "    xaxis_opts=opts.AxisOpts(type_=\"category\", boundary_gap=False),\n",
    "    yaxis_opts=opts.AxisOpts(name=\"得分\"),\n",
    "    legend_opts=opts.LegendOpts(pos_right=\"10%\", pos_top=\"5%\"),\n",
    "    tooltip_opts=opts.TooltipOpts(trigger=\"axis\")\n",
    ")\n",
    "scatter.set_series_opts(\n",
    "    label_opts=opts.LabelOpts(position=\"top\"),\n",
    "    itemstyle_opts=opts.ItemStyleOpts(color=\"#ffffff\", border_width=2, border_color=\"#000000\")\n",
    ")\n",
    "scatter.set_global_opts(\n",
    "    title_opts=opts.TitleOpts(title=\"冠亚季军名称\", subtitle=\"（以散点图方式显示）\"),\n",
    "    xaxis_opts=opts.AxisOpts(is_show=False),\n",
    "    yaxis_opts=opts.AxisOpts(is_show=False),\n",
    "    legend_opts=opts.LegendOpts(is_show=False),\n",
    "    graphic_opts=[opts.GraphicGroup(\n",
    "        graphic_item=opts.GraphicItem(\n",
    "            left=\"center\", top=\"70%\", z=100, bounding=\"raw\", \n",
    "            children=[opts.LabelOpts(\n",
    "                z=100, left=\"center\", top=\"middle\", style_opts=opts.TextStyleOpts(font_size=14), \n",
    "                formatter=top_3[\"Year\"][i]\n",
    "            ) for i in range(len(top_3))]\n",
    "        )\n",
    "    )]\n",
    ")\n",
    "\n",
    "# 合并图表\n",
    "line.overlap(scatter)\n",
    "\n",
    "# 渲染图表\n",
    "line.render(\"champions_goals.html\")\n"
   ]
  },
  {
   "cell_type": "code",
   "execution_count": null,
   "metadata": {},
   "outputs": [],
   "source": []
  }
 ],
 "metadata": {
  "kernelspec": {
   "display_name": "base",
   "language": "python",
   "name": "python3"
  },
  "language_info": {
   "codemirror_mode": {
    "name": "ipython",
    "version": 3
   },
   "file_extension": ".py",
   "mimetype": "text/x-python",
   "name": "python",
   "nbconvert_exporter": "python",
   "pygments_lexer": "ipython3",
   "version": "3.9.12"
  },
  "orig_nbformat": 4
 },
 "nbformat": 4,
 "nbformat_minor": 2
}
